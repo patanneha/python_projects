{
 "cells": [
  {
   "cell_type": "code",
   "execution_count": 2,
   "id": "f3aabcea-7c46-42b6-a7c4-35a0bd2f86cb",
   "metadata": {},
   "outputs": [
    {
     "name": "stdout",
     "output_type": "stream",
     "text": [
      "NOTE: AVAILABLE CURRENCY (INDIA: rupee) (US: dollar) (UK:pound) (EUROPE:euro) (JAPAN:yen)\n"
     ]
    },
    {
     "name": "stdin",
     "output_type": "stream",
     "text": [
      "Enter your Currency:(pound,dollar,rupee,euro,yen) POund\n",
      "You want to change into which Currency:(pound,dollar,rupee,euro,yen) RUPEE\n",
      "Enter the Money: 1\n"
     ]
    },
    {
     "name": "stdout",
     "output_type": "stream",
     "text": [
      " you will get 107.48 rupees\n"
     ]
    }
   ],
   "source": [
    "print(\"NOTE: AVAILABLE CURRENCY (INDIA: rupee) (US: dollar) (UK:pound) (EUROPE:euro) (JAPAN:yen)\")\n",
    "customer_currency=input(\"Enter your Currency:(pound,dollar,rupee,euro,yen)\").lower()\n",
    "exchange=input(\"You want to change into which Currency:(pound,dollar,rupee,euro,yen)\").lower()\n",
    "Money = int(input(\"Enter the Money:\"))\n",
    "                      #conversion of rupees to all other currencies\n",
    "if customer_currency == 'rupee':\n",
    "    if exchange == 'dollar':\n",
    "        getting = Money*0.012\n",
    "        print(f\"you will get {getting} dollar\")\n",
    "    elif exchange == 'yen':\n",
    "        getting = Money*1.84\n",
    "        print(f\"you will get {getting} yen\")\n",
    "    elif exchange == 'pound':\n",
    "        getting = Money*0.0093 \n",
    "        print(f\"you will get {getting} Pounds \")\n",
    "    elif exchange == 'euro':\n",
    "        getting = Money*0.011 \n",
    "        print(f\"you will get {getting} Euros \")\n",
    "    else:\n",
    "        print(\"please check the input of exchange currency\")\n",
    "                    #conversion of dollar to all other currencies\n",
    "elif customer_currency == 'dollar':\n",
    "    if exchange == 'yen':\n",
    "        getting = Money*154.15\n",
    "        print(f\"you will get {getting} yen\")\n",
    "    elif exchange == 'pound':\n",
    "        getting = Money*0.78\n",
    "        print(f\"you will get {getting} Pounds \")\n",
    "    elif exchange == 'euro':\n",
    "        getting = Money*0.92\n",
    "        print(f\"you will get {getting} Euros \")\n",
    "    elif exchange == 'rupee':\n",
    "        getting = Money * 83.73\n",
    "        print(f\" you will get {getting} rupees\")\n",
    "    else:\n",
    "        print(\"please check the input of exchange currency\")\n",
    "                    #conversion of yen to other currencies\n",
    "elif customer_currency == 'yen':\n",
    "    if exchange == 'pound':\n",
    "        getting = Money * 0.0051\n",
    "        print(f\"you will get {getting} Pounds \")\n",
    "    elif exchange == 'euro':\n",
    "        getting = Money * 0.0060\n",
    "        print(f\"you will get {getting} Euros \")\n",
    "    elif exchange == 'rupee':\n",
    "        getting = Money * 0.54\n",
    "        print(f\" you will get {getting} rupees\")\n",
    "    elif exchange == 'dollar':\n",
    "        getting = Money * 0.0065\n",
    "        print(f\" you will get {getting} dollar\")\n",
    "    else:\n",
    "        print(\"please check the input of exchange currency\")\n",
    "                 #conversion of euro to other currencies\n",
    "elif customer_currency == 'euro':\n",
    "    if exchange == 'pound':\n",
    "        getting = Money * 0.84\n",
    "        print(f\"you will get {getting} Pounds \")\n",
    "    elif exchange == 'rupee':\n",
    "        getting = Money * 90.52\n",
    "        print(f\" you will get {getting} rupees\")\n",
    "    elif exchange == 'dollar':\n",
    "        getting = Money * 1.08\n",
    "        print(f\" you will get {getting} dollar\")\n",
    "    elif exchange == 'yen':\n",
    "        getting = Money * 166.64\n",
    "        print(f\"you will get {getting} yen\")\n",
    "    else:\n",
    "        print(\"please check the input of exchange currency\")\n",
    "                    #conversion of pounds to other countries\n",
    "elif customer_currency == 'pound':\n",
    "    if exchange == 'rupee':\n",
    "        getting = Money * 107.48\n",
    "        print(f\" you will get {getting} rupees\")\n",
    "    elif exchange == 'dollar':\n",
    "        getting = Money * 1.28\n",
    "        print(f\" you will get {getting} dollars\")\n",
    "    elif exchange == 'yen':\n",
    "        getting = Money * 197.85\n",
    "        print(f\"you will get {getting} yen\")\n",
    "    elif exchange == 'euro':\n",
    "        getting = Money * 1.19\n",
    "        print(f\"you will get {getting} Euros\")\n",
    "    else:\n",
    "        print(\"please check the input of exchange currency\")\n",
    "else:\n",
    "    print(\"please check the input of current currency\")"
   ]
  },
  {
   "cell_type": "code",
   "execution_count": null,
   "id": "fe8e4042-7cbc-43f7-93d0-91368f88afdf",
   "metadata": {},
   "outputs": [],
   "source": []
  }
 ],
 "metadata": {
  "kernelspec": {
   "display_name": "Python 3 (ipykernel)",
   "language": "python",
   "name": "python3"
  },
  "language_info": {
   "codemirror_mode": {
    "name": "ipython",
    "version": 3
   },
   "file_extension": ".py",
   "mimetype": "text/x-python",
   "name": "python",
   "nbconvert_exporter": "python",
   "pygments_lexer": "ipython3",
   "version": "3.12.1"
  }
 },
 "nbformat": 4,
 "nbformat_minor": 5
}
