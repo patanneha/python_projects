{
 "cells": [
  {
   "cell_type": "code",
   "execution_count": 1,
   "id": "8269c082-4a47-4784-88d3-09d8f2df5164",
   "metadata": {},
   "outputs": [
    {
     "name": "stdout",
     "output_type": "stream",
     "text": [
      "A random word from the word list is as follow:\n",
      "\n",
      "arhan\n",
      "['_', '_', '_', '_', '_']\n"
     ]
    },
    {
     "name": "stdin",
     "output_type": "stream",
     "text": [
      "guess the letter: a\n"
     ]
    },
    {
     "name": "stdout",
     "output_type": "stream",
     "text": [
      "['a', '_', '_', 'a', '_']\n"
     ]
    },
    {
     "name": "stdin",
     "output_type": "stream",
     "text": [
      "guess the letter: r\n"
     ]
    },
    {
     "name": "stdout",
     "output_type": "stream",
     "text": [
      "['a', 'r', '_', 'a', '_']\n"
     ]
    },
    {
     "name": "stdin",
     "output_type": "stream",
     "text": [
      "guess the letter: h\n"
     ]
    },
    {
     "name": "stdout",
     "output_type": "stream",
     "text": [
      "['a', 'r', 'h', 'a', '_']\n"
     ]
    },
    {
     "name": "stdin",
     "output_type": "stream",
     "text": [
      "guess the letter: a\n"
     ]
    },
    {
     "name": "stdout",
     "output_type": "stream",
     "text": [
      "['a', 'r', 'h', 'a', '_']\n"
     ]
    },
    {
     "name": "stdin",
     "output_type": "stream",
     "text": [
      "guess the letter: n\n"
     ]
    },
    {
     "name": "stdout",
     "output_type": "stream",
     "text": [
      "['a', 'r', 'h', 'a', 'n']\n",
      "Congratulation , you won\n"
     ]
    }
   ],
   "source": [
    "import random\n",
    "#list of some names\n",
    "word_list=[\"arhan\",\"aravind\",\"anish\",\"adhira\",\"ayaana\",\"deeva\",\"eshika\",\"falguni\",\"heer\",\"awais\",\"neha\"]\n",
    "lives=10\n",
    "print(\"A random word from the word list is as follow:\\n\")\n",
    "chosen=random.choice(word_list)\n",
    "print(chosen)\n",
    "display=[]\n",
    "for i in range(len(chosen)):\n",
    "    display+='_'\n",
    "print(display)\n",
    "game_over=False\n",
    "while not game_over:\n",
    "    guessed_letter=input(\"guess the letter:\").lower()\n",
    "    for position in range(len(chosen)):\n",
    "       letter=chosen[position]\n",
    "       if letter==guessed_letter:\n",
    "           display[position]=guessed_letter\n",
    "    print(display)\n",
    "    if guessed_letter not in chosen:\n",
    "        lives -= 1\n",
    "        print(\"you have\",lives,\"lives still\")\n",
    "        if lives==0:\n",
    "            game_over=True\n",
    "            print(\"sorry, you have 0 lives - you lose\")\n",
    "    if '_' not in display:\n",
    "        game_over=True\n",
    "        print(\"Congratulation , you won\")"
   ]
  },
  {
   "cell_type": "code",
   "execution_count": null,
   "id": "e0970b1d-7741-4af6-b80d-8cbb3fa36e84",
   "metadata": {},
   "outputs": [],
   "source": []
  }
 ],
 "metadata": {
  "kernelspec": {
   "display_name": "Python 3 (ipykernel)",
   "language": "python",
   "name": "python3"
  },
  "language_info": {
   "codemirror_mode": {
    "name": "ipython",
    "version": 3
   },
   "file_extension": ".py",
   "mimetype": "text/x-python",
   "name": "python",
   "nbconvert_exporter": "python",
   "pygments_lexer": "ipython3",
   "version": "3.12.1"
  }
 },
 "nbformat": 4,
 "nbformat_minor": 5
}
